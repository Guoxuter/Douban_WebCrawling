{
 "cells": [
  {
   "cell_type": "code",
   "execution_count": 2,
   "metadata": {},
   "outputs": [],
   "source": [
    "import os\n",
    "import json\n",
    "from bs4 import BeautifulSoup\n",
    "import requests\n",
    "import random\n",
    "import time\n",
    "my_headers = [\n",
    "    \"Mozilla/5.0 (Windows NT 6.1; Win64; x64) AppleWebKit/537.36 (KHTML, like Gecko) Chrome/64.0.3282.140 Safari/537.36\"\n",
    "    \"Mozilla/5.0 (Windows NT 6.3; WOW64) AppleWebKit/537.36 (KHTML, like Gecko) Chrome/39.0.2171.95 Safari/537.36\",\n",
    "    \"Mozilla/5.0 (Macintosh; Intel Mac OS X 10_9_2) AppleWebKit/537.36 (KHTML, like Gecko) Chrome/35.0.1916.153 Safari/537.36\",\n",
    "    \"Mozilla/5.0 (Windows NT 6.1; WOW64; rv:30.0) Gecko/20100101 Firefox/30.0\",\n",
    "    \"Mozilla/5.0 (Macintosh; Intel Mac OS X 10_9_2) AppleWebKit/537.75.14 (KHTML, like Gecko) Version/7.0.3 Safari/537.75.14\",\n",
    "    \"Mozilla/5.0 (compatible; MSIE 10.0; Windows NT 6.2; Win64; x64; Trident/6.0)\",\n",
    "    'Mozilla/5.0 (Windows; U; Windows NT 5.1; it; rv:1.8.1.11) Gecko/20071127 Firefox/2.0.0.11',\n",
    "    'Opera/9.25 (Windows NT 5.1; U; en)',\n",
    "    'Mozilla/4.0 (compatible; MSIE 6.0; Windows NT 5.1; SV1; .NET CLR 1.1.4322; .NET CLR 2.0.50727)',\n",
    "    'Mozilla/5.0 (compatible; Konqueror/3.5; Linux) KHTML/3.5.5 (like Gecko) (Kubuntu)',\n",
    "    'Mozilla/5.0 (X11; U; Linux i686; en-US; rv:1.8.0.12) Gecko/20070731 Ubuntu/dapper-security Firefox/1.5.0.12',\n",
    "    'Lynx/2.8.5rel.1 libwww-FM/2.14 SSL-MM/1.4.1 GNUTLS/1.2.9',\n",
    "    \"Mozilla/5.0 (X11; Linux i686) AppleWebKit/535.7 (KHTML, like Gecko) Ubuntu/11.04 Chromium/16.0.912.77 Chrome/16.0.912.77 Safari/535.7\",\n",
    "    \"Mozilla/5.0 (X11; Ubuntu; Linux i686; rv:10.0) Gecko/20100101 Firefox/10.0 \"\n",
    "    ]\n",
    "with open('./source_data/id.txt','r') as f:\n",
    "    ids=f.read().split('\\n')\n",
    "ids=list(set(ids))"
   ]
  },
  {
   "cell_type": "code",
   "execution_count": 3,
   "metadata": {},
   "outputs": [],
   "source": [
    "def get_url_msg(url,headers):\n",
    "\n",
    "    headers={'User-Agent':random.choice(my_headers)}\n",
    "    req= requests.get(url,headers=headers)\n",
    "    req.raise_for_status()\n",
    "    req.encoding = 'utf-8'\n",
    "    soup=BeautifulSoup(req.text,\"html.parser\")\n",
    "    comments=[]\n",
    "    name=soup.find('h1').text[:-3]\n",
    "    for item in soup.find_all('div',class_='comment-item'):\n",
    "        cur={}\n",
    "        cur['title']=name\n",
    "        cur['time']=item.find('span',class_='comment-time')['title']\n",
    "        if soup.find('span',class_='allstar40 rating')!=None:\n",
    "            cur['score']=4\n",
    "        elif soup.find('span',class_='allstar50 rating')!=None:\n",
    "            cur['score']=5\n",
    "        elif soup.find('span',class_='allstar30 rating')!=None:\n",
    "            cur['score']=3\n",
    "        elif soup.find('span',class_='allstar20 rating')!=None:\n",
    "            cur['score']=2\n",
    "        elif soup.find('span',class_='allstar10 rating')!=None:\n",
    "            cur['score']=1\n",
    "        cur['comment']=item.find('span',class_='short').text\n",
    "\n",
    "        comments.append(cur)\n",
    "    comments=sorted(comments,key = lambda i: (i['time'], i['comment']))\n",
    "    return comments"
   ]
  },
  {
   "cell_type": "code",
   "execution_count": 4,
   "metadata": {},
   "outputs": [
    {
     "name": "stdout",
     "output_type": "stream",
     "text": [
      "34908206==瑞克和莫蒂 第五季==55.43s\n",
      "26584183==权力的游戏 第八季==64.34s\n",
      "2156528==生活大爆炸  第一季==33.12s\n",
      "1393859==老友记 第一季==31.79s\n",
      "4933194==是，大臣  第二季==31.03s\n",
      "30210221==鬼灭之刃==25.76s\n",
      "35258427==间谍过家家==23.90s\n",
      "34867871==英雄联盟：双城之战 第一季==24.27s\n",
      "27157760==机甲拳击==24.55s\n",
      "7054120==黑镜 第一季==26.68s\n",
      "34442364==暗黑 第三季==26.23s\n",
      "2373195==绝命毒师 第一季==25.88s\n",
      "26588239==超感猎杀 第二季==25.02s\n",
      "30475135==来自深渊：烈日的黄金乡==23.97s\n",
      "30367642==猎鹰与冬兵==24.71s\n",
      "10590706==权力的游戏 第三季==26.89s\n",
      "2338055==西部世界 第一季==24.27s\n",
      "11502153==黑镜 第二季==26.93s\n",
      "34892527==曼达洛人 第二季==24.00s\n",
      "26813221==了不起的麦瑟尔夫人 第一季==26.40s\n",
      "6522269==神探夏洛克  第二季==27.20s\n",
      "33406089==鹰眼==23.47s\n",
      "30424374==爱，死亡和机器人 第一季==30.22s\n",
      "30331433==旺达幻视==23.08s\n",
      "10455629==神探夏洛克 第三季==26.81s\n",
      "34927946==国王排名==23.67s\n",
      "35436582==爱，死亡和机器人 第三季==27.75s\n",
      "35351365==夏日重现==23.44s\n",
      "30401122==致命女人 第一季==25.67s\n",
      "35118256==赛博朋克：边缘行者==27.10s\n"
     ]
    }
   ],
   "source": [
    "comments=[]\n",
    "for id in ids:\n",
    "    c=[]\n",
    "    s=time.time()\n",
    "    for i in range(6):\n",
    "        \n",
    "        url=f\"https://movie.douban.com/subject/{id}/comments?start={i}00&limit=100&status=P&sort=new_score\"\n",
    "        c.extend(get_url_msg(url,my_headers))\n",
    "        time.sleep(2.7)\n",
    "    title=c[0]['title']\n",
    "    comments.append({'title':title,'data':c})\n",
    "    c=json.dumps(c)\n",
    "    with open(f'./data/{title}.json','w')as f:\n",
    "        f.write(c)\n",
    "    e=time.time()\n",
    "    e='{:.2f}'.format(e-s)\n",
    "    print(f\"{id}==\"+title+\"==\"+ e+\"s\")\n",
    "comments=json.dumps(comments)\n",
    "with open('./source_data/data.json' ,'w')as f:\n",
    "    f.write(comments)"
   ]
  }
 ],
 "metadata": {
  "kernelspec": {
   "display_name": "Python 3.6.13 ('py36')",
   "language": "python",
   "name": "python3"
  },
  "language_info": {
   "codemirror_mode": {
    "name": "ipython",
    "version": 3
   },
   "file_extension": ".py",
   "mimetype": "text/x-python",
   "name": "python",
   "nbconvert_exporter": "python",
   "pygments_lexer": "ipython3",
   "version": "3.6.13"
  },
  "orig_nbformat": 4,
  "vscode": {
   "interpreter": {
    "hash": "74d7724546c3f5e4c6457614ab89d3064c6e067201e06b1ff118b24f64ba03f4"
   }
  }
 },
 "nbformat": 4,
 "nbformat_minor": 2
}
